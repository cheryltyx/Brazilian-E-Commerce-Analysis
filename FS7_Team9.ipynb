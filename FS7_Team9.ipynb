version https://git-lfs.github.com/spec/v1
oid sha256:fe6e48a23188e4f29d9a29c46262c40ceaacaa4ee016a7ebf80a3833ed24788b
size 159176228
