{
 "cells": [
  {
   "cell_type": "markdown",
   "id": "1a688af3",
   "metadata": {},
   "source": [
    "# Geospatial Analysis - Results "
   ]
  },
  {
   "cell_type": "code",
   "execution_count": null,
   "id": "485dab4a",
   "metadata": {},
   "outputs": [],
   "source": [
    "import numpy as np\n",
    "import pandas as pd\n",
    "import seaborn as sb\n",
    "import matplotlib.pyplot as plt\n",
    "import os\n",
    "sb.set()\n",
    "from sklearn.model_selection import train_test_split\n",
    "from sklearn.ensemble import RandomForestRegressor\n",
    "from sklearn.metrics import mean_squared_error\n",
    "from sklearn.ensemble import RandomForestClassifier\n",
    "from sklearn.metrics import confusion_matrix\n",
    "from sklearn.tree import DecisionTreeClassifier\n",
    "from sklearn.tree import plot_tree\n",
    "from sklearn.preprocessing import OneHotEncoder\n",
    "from sklearn.utils import resample\n",
    "import holoviews as hv\n",
    "import geoviews as gv\n",
    "import datashader as ds\n",
    "from colorcet import fire, rainbow, bgy, bjy, bkr, kb, kr\n",
    "from datashader.colors import colormap_select, Greys9\n",
    "from holoviews.streams import RangeXY\n",
    "from holoviews.operation.datashader import datashade, dynspread, rasterize\n",
    "from bokeh.io import push_notebook, show, output_notebook"
   ]
  },
  {
   "cell_type": "code",
   "execution_count": null,
   "id": "1e3c3859",
   "metadata": {},
   "outputs": [],
   "source": [
    "customers = pd.read_csv(\"olist_customers_dataset.csv\")\n",
    "\n",
    "order_items = pd.read_csv(\"olist_order_items_dataset.csv\")\n",
    "\n",
    "order_payment = pd.read_csv(\"olist_order_payments_dataset.csv\")\n",
    "\n",
    "review = pd.read_csv(\"olist_order_reviews_dataset.csv\")\n",
    "\n",
    "orders = pd.read_csv(\"olist_orders_dataset.csv\")\n",
    "\n",
    "products = pd.read_csv(\"olist_products_dataset.csv\")\n",
    "\n",
    "seller = pd.read_csv(\"olist_sellers_dataset.csv\")\n",
    "\n",
    "products_translation = pd.read_csv(\"product_category_name_translation.csv\")\n",
    "\n",
    "geo = pd.read_csv(\"olist_geolocation_dataset.csv\", dtype={'geolocation_zip_code_prefix': str})"
   ]
  },
  {
   "cell_type": "code",
   "execution_count": null,
   "id": "74593ef2",
   "metadata": {},
   "outputs": [],
   "source": [
    "geo"
   ]
  },
  {
   "cell_type": "code",
   "execution_count": null,
   "id": "c5ecde3d",
   "metadata": {},
   "outputs": [],
   "source": [
    "geo['geolocation_zip_code_prefix_3_digits'] = geo['geolocation_zip_code_prefix'].str[0:3]\n",
    "geo.head(3)"
   ]
  },
  {
   "cell_type": "code",
   "execution_count": null,
   "id": "a998cee8",
   "metadata": {},
   "outputs": [],
   "source": [
    "#table data to show the zip code and corresponding city and state\n",
    "geo.iloc[:, 3:6]"
   ]
  },
  {
   "cell_type": "code",
   "execution_count": null,
   "id": "9d939120",
   "metadata": {},
   "outputs": [],
   "source": [
    "geo['geolocation_zip_code_prefix'].value_counts().to_frame().describe()"
   ]
  },
  {
   "cell_type": "code",
   "execution_count": null,
   "id": "7bcc11db",
   "metadata": {},
   "outputs": [],
   "source": [
    "#removal of outliers\n",
    "#Brazils most Northern spot is at 5 deg 16′ 27.8″ N latitude.;\n",
    "geo = geo[geo.geolocation_lat <= 5.27438888]\n",
    "#it’s most Western spot is at 73 deg, 58′ 58.19″W Long.\n",
    "geo = geo[geo.geolocation_lng >= -73.98283055]\n",
    "#It’s most southern spot is at 33 deg, 45′ 04.21″ S Latitude.\n",
    "geo = geo[geo.geolocation_lat >= -33.75116944]\n",
    "#It’s most Eastern spot is 34 deg, 47′ 35.33″ W Long.\n",
    "geo = geo[geo.geolocation_lng <=  -34.79314722]"
   ]
  },
  {
   "cell_type": "code",
   "execution_count": null,
   "id": "1ddae0d0",
   "metadata": {},
   "outputs": [],
   "source": [
    "from datashader.utils import lnglat_to_meters as webm\n",
    "x, y = webm(geo.geolocation_lng, geo.geolocation_lat)\n",
    "geo['x'] = pd.Series(x)\n",
    "geo['y'] = pd.Series(y)"
   ]
  },
  {
   "cell_type": "code",
   "execution_count": null,
   "id": "3efe6df0",
   "metadata": {},
   "outputs": [],
   "source": [
    "# making the zipcode to int for plotting \n",
    "geo['geolocation_zip_code_prefix'] = geo['geolocation_zip_code_prefix'].astype(int)\n",
    "geo['geolocation_zip_code_prefix_3_digits'] = geo['geolocation_zip_code_prefix_3_digits'].astype(int)"
   ]
  },
  {
   "cell_type": "code",
   "execution_count": null,
   "id": "5d11d682",
   "metadata": {},
   "outputs": [],
   "source": [
    "brazil = geo\n",
    "zipcode = 'geolocation_zip_code_prefix'"
   ]
  },
  {
   "cell_type": "code",
   "execution_count": null,
   "id": "8a02c524",
   "metadata": {},
   "outputs": [],
   "source": [
    "orders_df = pd.read_csv('olist_orders_dataset.csv')\n",
    "order_items = pd.read_csv('olist_order_items_dataset.csv')\n",
    "order_reviews = pd.read_csv('olist_order_reviews_dataset.csv')\n",
    "customer = pd.read_csv('olist_customers_dataset.csv', dtype={'customer_zip_code_prefix': str})\n",
    "\n",
    "# getting the first 3 digits of customer zipcode\n",
    "customer['customer_zip_code_prefix_3_digits'] = customer['customer_zip_code_prefix'].str[0:3]\n",
    "customer['customer_zip_code_prefix_3_digits'] = customer['customer_zip_code_prefix_3_digits'].astype(int)\n",
    "\n",
    "brazil_geo = geo.set_index('geolocation_zip_code_prefix_3_digits').copy()"
   ]
  },
  {
   "cell_type": "code",
   "execution_count": null,
   "id": "f2c187a7",
   "metadata": {},
   "outputs": [],
   "source": [
    "brazil_geo"
   ]
  },
  {
   "cell_type": "code",
   "execution_count": null,
   "id": "81cc4f27",
   "metadata": {},
   "outputs": [],
   "source": [
    "# merging the data\n",
    "orders_copy = orders_df.merge(order_items, on='order_id')\n",
    "orders_copy = orders_copy.merge(customer, on='customer_id')\n",
    "orders_copy = orders_copy.merge(order_reviews, on='order_id')"
   ]
  },
  {
   "cell_type": "code",
   "execution_count": null,
   "id": "004b15ea",
   "metadata": {},
   "outputs": [],
   "source": [
    "orders_copy"
   ]
  },
  {
   "cell_type": "code",
   "execution_count": null,
   "id": "3b45470f",
   "metadata": {},
   "outputs": [],
   "source": [
    "gp = orders_copy.groupby('customer_zip_code_prefix_3_digits')['price'].sum().to_frame()\n",
    "revenue = brazil_geo.join(gp)\n",
    "average = 'revenue'\n",
    "revenue[average] = revenue.price"
   ]
  },
  {
   "cell_type": "code",
   "execution_count": null,
   "id": "c8437fc5",
   "metadata": {},
   "outputs": [],
   "source": [
    "output_notebook()\n",
    "hv.extension('bokeh')\n",
    "\n",
    "%opts Overlay [width=800 height=600 toolbar='above' xaxis=None yaxis=None]\n",
    "%opts QuadMesh [tools=['hover'] colorbar=True] (alpha=0 hover_alpha=0.2)\n",
    "\n",
    "def plot_map(data, label, datavalue, zipcode):\n",
    "    p = hv.Points(gv.Dataset(data, kdims=['x', 'y'], vdims=[average]))\n",
    "    hover = hv.util.Dynamic(rasterize(p, aggregator=datavalue, width=40, height=30, streams=[RangeXY]), operation=hv.QuadMesh)\n",
    "    hover = hover.options(cmap=rainbow)\n",
    "    url=\"http://server.arcgisonline.com/ArcGIS/rest/services/Canvas/World_Dark_Gray_Base/MapServer/tile/{Z}/{Y}/{X}.png\"\n",
    "    geomap = gv.WMTS(url)\n",
    "    agg = datashade(p, element_type=gv.Image, aggregator=datavalue, cmap=rainbow)\n",
    "    zip_codes = dynspread(agg, threshold=0.05, max_px=1)\n",
    "    img = geomap * zip_codes * hover\n",
    "    img = img.relabel(label)\n",
    "    return img"
   ]
  },
  {
   "cell_type": "code",
   "execution_count": null,
   "id": "ec4a5bcd",
   "metadata": {
    "scrolled": false
   },
   "outputs": [],
   "source": [
    "plot_map(revenue, 'Revenue from Orders Based on location (zipcode)', ds.mean(average), average)"
   ]
  },
  {
   "cell_type": "code",
   "execution_count": null,
   "id": "1badcf2c",
   "metadata": {},
   "outputs": [],
   "source": [
    "pip install plotly"
   ]
  },
  {
   "cell_type": "code",
   "execution_count": null,
   "id": "3c2b8b6d",
   "metadata": {},
   "outputs": [],
   "source": [
    "pip install cufflinks"
   ]
  },
  {
   "cell_type": "code",
   "execution_count": null,
   "id": "5787cd9f",
   "metadata": {},
   "outputs": [],
   "source": [
    "import plotly.express as px"
   ]
  },
  {
   "cell_type": "code",
   "execution_count": null,
   "id": "b1b1e7d6",
   "metadata": {},
   "outputs": [],
   "source": [
    "#map may not load, but a video recording of the results is shown in the powerpoint slides\n",
    "fig = px.density_mapbox(revenue, lat='geolocation_lat', lon='geolocation_lng', z='revenue', radius=2,\n",
    "                        center=dict(lat=0, lon=180), zoom=0,\n",
    "                        mapbox_style=\"stamen-terrain\")\n",
    "fig.show()"
   ]
  },
  {
   "cell_type": "markdown",
   "id": "0c591ced",
   "metadata": {},
   "source": [
    "#### Again, we can confirm our findings as through this map we can see that most revenue is generated from SP, RJ, and ES. Since this is the general trend being observed, we can recommend that sellers cater their products to these regions. "
   ]
  },
  {
   "cell_type": "markdown",
   "id": "6d71b633",
   "metadata": {},
   "source": [
    "### Based on the Geospatial Analysis, we deduce a good understanding of customer demographics trends in this e-commerce marketplace."
   ]
  },
  {
   "cell_type": "markdown",
   "id": "e1c48ceb",
   "metadata": {},
   "source": []
  }
 ],
 "metadata": {
  "kernelspec": {
   "display_name": "Python 3",
   "language": "python",
   "name": "python3"
  },
  "language_info": {
   "codemirror_mode": {
    "name": "ipython",
    "version": 3
   },
   "file_extension": ".py",
   "mimetype": "text/x-python",
   "name": "python",
   "nbconvert_exporter": "python",
   "pygments_lexer": "ipython3",
   "version": "3.8.8"
  }
 },
 "nbformat": 4,
 "nbformat_minor": 5
}
